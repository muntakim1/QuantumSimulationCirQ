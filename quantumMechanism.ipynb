{
  "nbformat": 4,
  "nbformat_minor": 0,
  "metadata": {
    "colab": {
      "name": "quantumMechanism.ipynb",
      "provenance": []
    },
    "kernelspec": {
      "name": "python3",
      "display_name": "Python 3"
    }
  },
  "cells": [
    {
      "cell_type": "markdown",
      "metadata": {
        "id": "WIyyNtowtrZ_",
        "colab_type": "text"
      },
      "source": [
        "Here We are Implementing simple Quantum Circuit. Using **Hadamard Gate** and also With the **Pauli's X Gate**\n",
        "\n",
        "[**Note:** We are just simulating quantum Computation on a classical computer. It could may be different in Quantum Computer.]"
      ]
    },
    {
      "cell_type": "code",
      "metadata": {
        "id": "Hbh-thZzhPzZ",
        "colab_type": "code",
        "colab": {}
      },
      "source": [
        "!pip install cirq"
      ],
      "execution_count": 0,
      "outputs": []
    },
    {
      "cell_type": "code",
      "metadata": {
        "id": "4vmbSgkRhnCN",
        "colab_type": "code",
        "colab": {
          "base_uri": "https://localhost:8080/",
          "height": 85
        },
        "outputId": "4cb342d4-c51a-4c71-b406-8d22d68f2287"
      },
      "source": [
        "#importing Cirq\n",
        "import cirq\n",
        "\n",
        "#checking the Existing quantum circuit.\n",
        "\n",
        "print(cirq.google.Foxtail)"
      ],
      "execution_count": 4,
      "outputs": [
        {
          "output_type": "stream",
          "text": [
            "(0, 0)───(0, 1)───(0, 2)───(0, 3)───(0, 4)───(0, 5)───(0, 6)───(0, 7)───(0, 8)───(0, 9)───(0, 10)\n",
            "│        │        │        │        │        │        │        │        │        │        │\n",
            "│        │        │        │        │        │        │        │        │        │        │\n",
            "(1, 0)───(1, 1)───(1, 2)───(1, 3)───(1, 4)───(1, 5)───(1, 6)───(1, 7)───(1, 8)───(1, 9)───(1, 10)\n"
          ],
          "name": "stdout"
        }
      ]
    },
    {
      "cell_type": "code",
      "metadata": {
        "id": "Z_l27rJytEOn",
        "colab_type": "code",
        "colab": {
          "base_uri": "https://localhost:8080/",
          "height": 54
        },
        "outputId": "b0c34f5b-a038-4aeb-f211-fccf697033f6"
      },
      "source": [
        "#let's define the length\n",
        "length = 3\n",
        "\n",
        "#define the Qubit\n",
        "\n",
        "qubits = [cirq.GridQubit(i,j) for i in range(length) for j in range(length)]\n",
        "\n",
        "#printing out the Qubits\n",
        "print(qubits)"
      ],
      "execution_count": 5,
      "outputs": [
        {
          "output_type": "stream",
          "text": [
            "[cirq.GridQubit(0, 0), cirq.GridQubit(0, 1), cirq.GridQubit(0, 2), cirq.GridQubit(1, 0), cirq.GridQubit(1, 1), cirq.GridQubit(1, 2), cirq.GridQubit(2, 0), cirq.GridQubit(2, 1), cirq.GridQubit(2, 2)]\n"
          ],
          "name": "stdout"
        }
      ]
    },
    {
      "cell_type": "code",
      "metadata": {
        "id": "TCkBQIKHtj4A",
        "colab_type": "code",
        "colab": {
          "base_uri": "https://localhost:8080/",
          "height": 170
        },
        "outputId": "d10e8b05-03ea-4698-f254-65ca634371b8"
      },
      "source": [
        "# Now Let's define a circuit.\n",
        "\n",
        "circuit = cirq.Circuit()\n",
        "\n",
        "#implementing the Hadamard gate\n",
        "circuit.append(cirq.H(q) for q in qubits if(q.row + q.col) % 2 == 0)\n",
        "\n",
        "#printing the \n",
        "print(circuit)"
      ],
      "execution_count": 8,
      "outputs": [
        {
          "output_type": "stream",
          "text": [
            "(0, 0): ───H───\n",
            "\n",
            "(0, 2): ───H───\n",
            "\n",
            "(1, 1): ───H───\n",
            "\n",
            "(2, 0): ───H───\n",
            "\n",
            "(2, 2): ───H───\n"
          ],
          "name": "stdout"
        }
      ]
    },
    {
      "cell_type": "code",
      "metadata": {
        "id": "Kpd1mvesvR4A",
        "colab_type": "code",
        "colab": {
          "base_uri": "https://localhost:8080/",
          "height": 136
        },
        "outputId": "e38a0201-0931-403a-a522-85c380adc611"
      },
      "source": [
        "# Now Let's define a circuit.\n",
        "\n",
        "circuit = cirq.Circuit()\n",
        "\n",
        "#implementing the Pauli X gate\n",
        "circuit.append(cirq.X(q) for q in qubits if(q.row + q.col) % 2 == 1)\n",
        "\n",
        "#printing the \n",
        "print(circuit)"
      ],
      "execution_count": 9,
      "outputs": [
        {
          "output_type": "stream",
          "text": [
            "(0, 1): ───X───\n",
            "\n",
            "(1, 0): ───X───\n",
            "\n",
            "(1, 2): ───X───\n",
            "\n",
            "(2, 1): ───X───\n"
          ],
          "name": "stdout"
        }
      ]
    },
    {
      "cell_type": "markdown",
      "metadata": {
        "id": "sHTpsWMNwbxX",
        "colab_type": "text"
      },
      "source": [
        "Let's make **Moments**. As we know A **Quantum Circuit** is made up of group of **Moments**, and a **Moment** is made up of a group of operations."
      ]
    },
    {
      "cell_type": "code",
      "metadata": {
        "id": "W3WmAXg6wQqO",
        "colab_type": "code",
        "colab": {
          "base_uri": "https://localhost:8080/",
          "height": 306
        },
        "outputId": "d319ca03-7479-4faa-8434-ead6ea38bf34"
      },
      "source": [
        "# redefing the circuit with an InsertStrategy\n",
        "circuit = cirq.Circuit()\n",
        "circuit.append([cirq.H(q) for q in qubits if (q.row + q.col) % 2 == 0],\n",
        "              strategy=cirq.InsertStrategy.EARLIEST)\n",
        "circuit.append([cirq.X(q) for q in qubits if (q.row + q.col) % 2 == 1],\n",
        "              strategy=cirq.InsertStrategy.EARLIEST)\n",
        "print(circuit)"
      ],
      "execution_count": 13,
      "outputs": [
        {
          "output_type": "stream",
          "text": [
            "(0, 0): ───H───\n",
            "\n",
            "(0, 1): ───X───\n",
            "\n",
            "(0, 2): ───H───\n",
            "\n",
            "(1, 0): ───X───\n",
            "\n",
            "(1, 1): ───H───\n",
            "\n",
            "(1, 2): ───X───\n",
            "\n",
            "(2, 0): ───H───\n",
            "\n",
            "(2, 1): ───X───\n",
            "\n",
            "(2, 2): ───H───\n"
          ],
          "name": "stdout"
        }
      ]
    },
    {
      "cell_type": "code",
      "metadata": {
        "id": "ETmJR6ZUwW-F",
        "colab_type": "code",
        "colab": {
          "base_uri": "https://localhost:8080/",
          "height": 34
        },
        "outputId": "59597969-3c91-4b6c-b21f-24bf22baa93a"
      },
      "source": [
        "# look at the circuit moments\n",
        "for i, m in enumerate(circuit):\n",
        "  print('Moment {}: {}'.format(i,m))"
      ],
      "execution_count": 14,
      "outputs": [
        {
          "output_type": "stream",
          "text": [
            "Moment 0: H((0, 0)) and H((0, 2)) and H((1, 1)) and H((2, 0)) and H((2, 2)) and X((0, 1)) and X((1, 0)) and X((1, 2)) and X((2, 1))\n"
          ],
          "name": "stdout"
        }
      ]
    },
    {
      "cell_type": "markdown",
      "metadata": {
        "id": "CFU5BlNYwJHR",
        "colab_type": "text"
      },
      "source": [
        "Let's combined this altogather."
      ]
    },
    {
      "cell_type": "code",
      "metadata": {
        "id": "gn3pR5hdv6nR",
        "colab_type": "code",
        "colab": {
          "base_uri": "https://localhost:8080/",
          "height": 34
        },
        "outputId": "fbddde31-7b91-4e59-a92e-5d66f6f079b4"
      },
      "source": [
        "# applying a gate at Qubit location (0,0)\n",
        "x_gate = cirq.X\n",
        "\n",
        "# turn in into an operation\n",
        "x_op = x_gate(qubits[0])\n",
        "print(x_op)"
      ],
      "execution_count": 10,
      "outputs": [
        {
          "output_type": "stream",
          "text": [
            "X((0, 0))\n"
          ],
          "name": "stdout"
        }
      ]
    },
    {
      "cell_type": "code",
      "metadata": {
        "id": "E4Q9_SEVv8fp",
        "colab_type": "code",
        "colab": {
          "base_uri": "https://localhost:8080/",
          "height": 34
        },
        "outputId": "e3fa3959-fd11-4260-91cf-1f8b690dc394"
      },
      "source": [
        "# define a Moment\n",
        "cz = cirq.CZ(qubits[0], qubits[1])\n",
        "x = cirq.X(qubits[2])\n",
        "moment = cirq.Moment([x, cz])\n",
        "print(moment)"
      ],
      "execution_count": 11,
      "outputs": [
        {
          "output_type": "stream",
          "text": [
            "X((0, 2)) and CZ((0, 0), (0, 1))\n"
          ],
          "name": "stdout"
        }
      ]
    },
    {
      "cell_type": "code",
      "metadata": {
        "id": "jGR-UYmBv-u7",
        "colab_type": "code",
        "colab": {
          "base_uri": "https://localhost:8080/",
          "height": 102
        },
        "outputId": "3edab54a-4e0b-4226-c2a8-0aeb13047793"
      },
      "source": [
        "# define a Circuit by combining Moments togeteher\n",
        "cz01 = cirq.CZ(qubits[0], qubits[1])\n",
        "x2 = cirq.X(qubits[2])\n",
        "cz12 = cirq.CZ(qubits[1], qubits[2])\n",
        "moment0 = cirq.Moment([cz01, x2])\n",
        "moment1 = cirq.Moment([cz12])\n",
        "circuit = cirq.Circuit((moment0, moment1))\n",
        "print(circuit)"
      ],
      "execution_count": 12,
      "outputs": [
        {
          "output_type": "stream",
          "text": [
            "(0, 0): ───@───────\n",
            "           │\n",
            "(0, 1): ───@───@───\n",
            "               │\n",
            "(0, 2): ───X───@───\n"
          ],
          "name": "stdout"
        }
      ]
    }
  ]
}